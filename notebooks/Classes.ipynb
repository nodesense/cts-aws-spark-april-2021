{
 "cells": [
  {
   "cell_type": "code",
   "execution_count": 1,
   "metadata": {},
   "outputs": [],
   "source": [
    "# classes \n",
    "# blueprints to create object\n",
    "# classes also known factory to create an object\n",
    "# an object is an real time physical/abstract entity\n",
    "# class is a blue print to create an object\n",
    "\n",
    "# a car can be an instance\n",
    "#   Corolla - is a model, \n",
    "# if Joe buy a car, this car is an object, Mary buy another corolla, an another object\n",
    "\n",
    "# Student - name, class/course, grade, marks -- attributes - Model/Blueprint\n",
    "# Mary is a student, Object"
   ]
  },
  {
   "cell_type": "code",
   "execution_count": 29,
   "metadata": {},
   "outputs": [
    {
     "name": "stdout",
     "output_type": "stream",
     "text": [
      "__init__ called\n",
      "product 1 100 2020\n",
      "__init__ called\n",
      "Product 2 200 2021\n",
      "<__main__.Product object at 0x00000166D913F7F0>\n",
      "<__main__.Product object at 0x00000166D922C760>\n"
     ]
    }
   ],
   "source": [
    "# create a class called product, no attribute\n",
    "\n",
    "class Product:\n",
    "    # in python, constructor is written using __init__\n",
    "    # in python, there is no this keyword, instead self is used\n",
    "    # self should be passed explicitly on first parameter\n",
    "    \n",
    "    # constructor, called very first whenever we create new object\n",
    "    # just to initialize object attributes\n",
    "    # don't do any calculations/ arimethic, no logic\n",
    "    # name, price, year are constructor/init function parameters\n",
    "    def __init__(self, name, price, year):\n",
    "        print(\"__init__ called\")\n",
    "        # attributes are member variables\n",
    "        # in python, it is known as attributes\n",
    "        self.name = name\n",
    "        self.price = price\n",
    "        self.year = year\n",
    "\n",
    "# creating new instance, this will call __init__ if that exist\n",
    "p1 = Product(\"product 1\", 100, 2020) # creating/produce new instance/object\n",
    "\n",
    "print (p1.name, p1.price, p1.year)\n",
    "\n",
    "# creating another/2nd instance, this will call __init__\n",
    "p2 = Product(\"Product 2\", 200, 2021) # creating a second instance\n",
    "print (p2.name, p2.price, p2.year)\n",
    "\n",
    "# printing objects, print the object memory, each has its own memory location\n",
    "print( p1)\n",
    "print( p2)"
   ]
  },
  {
   "cell_type": "code",
   "execution_count": 30,
   "metadata": {},
   "outputs": [
    {
     "name": "stdout",
     "output_type": "stream",
     "text": [
      "__init__ called\n",
      "__init__ called\n",
      "__str__ is called\n",
      "Brand(id=1,name=Apple)\n",
      "__str__ is called\n",
      "Brand(id=2,name=Google)\n"
     ]
    }
   ],
   "source": [
    " class Brand:\n",
    "    def __init__(self, id, name):\n",
    "        print(\"__init__ called\")\n",
    "        self.id = id\n",
    "        self.name = name\n",
    "        \n",
    "    # __str__ \n",
    "    def __str__(self):\n",
    "        print ('__str__ is called')\n",
    "        return f\"Brand(id={self.id},name={self.name})\"\n",
    "    \n",
    "apple = Brand(1, \"Apple\") # calls __init__\n",
    "google = Brand(2, \"Google\")\n",
    "# calls __str__ to get the string representation of an object\n",
    "\n",
    "# str(apple) also calls __str__\n",
    "# s =   str(apple)\n",
    "# print(s)\n",
    "print(apple) # calls __str__ and print Brand(id=1,name=Apple)\n",
    "print(google) # calls __str__ and print Brand(id=2,name=Google)"
   ]
  },
  {
   "cell_type": "code",
   "execution_count": 39,
   "metadata": {},
   "outputs": [
    {
     "name": "stdout",
     "output_type": "stream",
     "text": [
      "Grand total  900.0\n",
      "<__main__.Order object at 0x00000166D917B460>\n"
     ]
    }
   ],
   "source": [
    "class Order:\n",
    "    def __init__(self, amount, discount = 0):\n",
    "        self.amount = amount\n",
    "        self.discount = discount # in percentage\n",
    "        self.grandTotal = None\n",
    "    #todo __str__\n",
    "    \n",
    "    def calculate(self):\n",
    "        self.grandTotal = self.amount - (self.discount / 100.0) * self.amount\n",
    "        \n",
    "order1 = Order(1000, 10) # amount is 1000, discount is 10%\n",
    "order1.calculate() \n",
    "print(\"Grand total \", order1.grandTotal)\n",
    "\n",
    "print(order1) # Order {amount: 1000, discount: 10} "
   ]
  },
  {
   "cell_type": "code",
   "execution_count": 43,
   "metadata": {},
   "outputs": [
    {
     "name": "stdout",
     "output_type": "stream",
     "text": [
      "100 15\n",
      "1000 10\n",
      "500 20\n",
      "100 15\n",
      "85.0\n",
      "1000 10\n",
      "900.0\n",
      "500 20\n",
      "400.0\n",
      "100 15\n",
      "1000 10\n",
      "500 20\n"
     ]
    }
   ],
   "source": [
    "# list of tuple\n",
    "# list of orders\n",
    "orders = [\n",
    "            (100, 15), # tuple (amount, discount)\n",
    "            (1000, 10),\n",
    "            (500, 20)\n",
    "         ]\n",
    "\n",
    "# iterate over orders, print the amount and discount\n",
    "# for each order (100, 15), create Order object\n",
    "# call calculate method\n",
    "# print the grandTotal\n",
    "\n",
    "# Option 1\n",
    "for amount, discount in orders:\n",
    "    print (amount, discount)\n",
    "    \n",
    "\n",
    "# Option 2\n",
    "for order in orders:\n",
    "    (amount, discount) = order\n",
    "    print (amount, discount)\n",
    "    order = Order(amount, discount)\n",
    "    order.calculate()\n",
    "    print (order.grandTotal)\n",
    "    \n",
    "# Option 3\n",
    "for order in orders:\n",
    "    print (order[0], order[1])\n",
    "    \n",
    "\n"
   ]
  },
  {
   "cell_type": "code",
   "execution_count": null,
   "metadata": {},
   "outputs": [],
   "source": [
    "class Car:\n",
    "    def __init__(self, regno, color):\n",
    "        self.regno = regno\n",
    "        self.color = color\n",
    "        \n",
    "    def start():\n",
    "        pass\n",
    "    # behavior\n",
    "    def drive():\n",
    "        pass\n",
    "    \n",
    "    def applyBreak():\n",
    "        pass\n",
    "    \n",
    "car1 = Car(\"12323\", \"white\")\n",
    "car1.drive()\n",
    "    "
   ]
  }
 ],
 "metadata": {
  "kernelspec": {
   "display_name": "Python 3",
   "language": "python",
   "name": "python3"
  },
  "language_info": {
   "codemirror_mode": {
    "name": "ipython",
    "version": 3
   },
   "file_extension": ".py",
   "mimetype": "text/x-python",
   "name": "python",
   "nbconvert_exporter": "python",
   "pygments_lexer": "ipython3",
   "version": "3.8.5"
  }
 },
 "nbformat": 4,
 "nbformat_minor": 4
}
